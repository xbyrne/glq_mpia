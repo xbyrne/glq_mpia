{
 "cells": [
  {
   "cell_type": "code",
   "execution_count": null,
   "metadata": {},
   "outputs": [],
   "source": [
    "import numpy as np\n",
    "from tensorflow.keras import optimizers\n",
    "from tensorflow.keras.callbacks import EarlyStopping\n",
    "#-- This block is only required on Google Colab\n",
    "import pandas as pd\n",
    "import matplotlib.pyplot as plt\n",
    "from google.colab import drive\n",
    "drive.mount('/content/drive')\n",
    "%cd '/content/drive/MyDrive/glq_mpia'\n",
    "#--\n",
    "import contrastive_utils"
   ]
  },
  {
   "cell_type": "code",
   "execution_count": null,
   "metadata": {},
   "outputs": [],
   "source": [
    "fl = np.load(\"./data/processed/ids_images.npz\")\n",
    "ids = fl[\"ids\"]\n",
    "imgs = fl[\"imgs\"]"
   ]
  },
  {
   "cell_type": "code",
   "execution_count": null,
   "metadata": {},
   "outputs": [],
   "source": [
    "# Loading model\n",
    "contrastor = contrastive_utils.Contrastor(\n",
    "    contrastive_utils.load_augmentor(),\n",
    "    contrastive_utils.load_encoder(),\n",
    "    contrastive_utils.load_projector(),\n",
    "    temperature=0.015,\n",
    ")\n",
    "# Compiling model\n",
    "contrastor.compile(\n",
    "    optimizer=optimizers.SGD(learning_rate=1e-4, momentum=1e-4), run_eagerly=True\n",
    ")"
   ]
  },
  {
   "cell_type": "code",
   "execution_count": null,
   "metadata": {},
   "outputs": [],
   "source": [
    "# Training model\n",
    "history = contrastor.fit(\n",
    "    contrastive_utils.normalise_imgs(imgs),\n",
    "    batch_size=128,\n",
    "    epochs=100,\n",
    "    callbacks=[EarlyStopping(monitor=\"loss\", mode=\"min\", patience=5, verbose=1)],\n",
    ")\n",
    "contrastor.save_weights('./models/contrastor', save_format='tf')"
   ]
  },
  {
   "cell_type": "code",
   "execution_count": null,
   "metadata": {},
   "outputs": [],
   "source": [
    "# Forward passing the original images\n",
    "encoded_imgs = contrastor.encoder(\n",
    "    contrastive_utils.normalise_imgs(imgs[:, 2:-2, 2:-2, :])\n",
    ").numpy()\n",
    "encoded_imgs = np.array([enc_img / np.linalg.norm(enc_img) for enc_img in encoded_imgs])\n",
    "np.savez_compressed('./data/processed/encoded_imgs', ids=ids, encoded_imgs=encoded_imgs)"
   ]
  }
 ],
 "metadata": {
  "language_info": {
   "name": "python"
  },
  "orig_nbformat": 4
 },
 "nbformat": 4,
 "nbformat_minor": 2
}
