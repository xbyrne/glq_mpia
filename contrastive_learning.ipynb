{
 "cells": [
  {
   "cell_type": "code",
   "execution_count": 1,
   "metadata": {
    "colab": {
     "base_uri": "https://localhost:8080/"
    },
    "executionInfo": {
     "elapsed": 4278,
     "status": "ok",
     "timestamp": 1697808883896,
     "user": {
      "displayName": "Xander Byrne",
      "userId": "16624359446890840019"
     },
     "user_tz": -60
    },
    "id": "B-80emdazHZQ",
    "outputId": "e890c787-f9ac-44f0-9e96-a495c8eafaf7"
   },
   "outputs": [
    {
     "name": "stdout",
     "output_type": "stream",
     "text": [
      "/content/drive/MyDrive/glq_mpia\n"
     ]
    }
   ],
   "source": [
    "import numpy as np\n",
    "from tensorflow.keras import optimizers\n",
    "from tensorflow.keras.callbacks import EarlyStopping\n",
    "#-- This block is only required on Google Colab\n",
    "import pandas as pd\n",
    "import matplotlib.pyplot as plt\n",
    "# from google.colab import drive\n",
    "# drive.mount('/content/drive')\n",
    "%cd '/content/drive/MyDrive/glq_mpia'\n",
    "#--\n",
    "import contrastive_utils"
   ]
  },
  {
   "cell_type": "code",
   "execution_count": 2,
   "metadata": {
    "executionInfo": {
     "elapsed": 3475,
     "status": "ok",
     "timestamp": 1697808887369,
     "user": {
      "displayName": "Xander Byrne",
      "userId": "16624359446890840019"
     },
     "user_tz": -60
    },
    "id": "SaZGUCgNzNde"
   },
   "outputs": [],
   "source": [
    "fl = np.load('./data/processed/ids.npz')\n",
    "ids = fl['ids']\n",
    "fl = np.load(\"./data/processed/imgs.npz\")\n",
    "imgs = fl[\"imgs\"]"
   ]
  },
  {
   "cell_type": "code",
   "execution_count": 3,
   "metadata": {
    "executionInfo": {
     "elapsed": 4232,
     "status": "ok",
     "timestamp": 1697808891599,
     "user": {
      "displayName": "Xander Byrne",
      "userId": "16624359446890840019"
     },
     "user_tz": -60
    },
    "id": "x0AAEHYK19PV"
   },
   "outputs": [],
   "source": [
    "# Loading model\n",
    "contrastor = contrastive_utils.Contrastor(\n",
    "    contrastive_utils.load_augmentor(),\n",
    "    contrastive_utils.load_encoder(n_filters_1=128, n_filters_2=256, n_filters_3=512),\n",
    "    contrastive_utils.load_projector(input_size=512, n_nodes_1=256, n_nodes_3=128),\n",
    "    temperature=0.1,\n",
    ")\n",
    "# Compiling model\n",
    "contrastor.compile(\n",
    "    optimizer=optimizers.SGD(learning_rate=3e-4, momentum=1e-5), run_eagerly=True\n",
    ")"
   ]
  },
  {
   "cell_type": "code",
   "execution_count": 4,
   "metadata": {
    "colab": {
     "base_uri": "https://localhost:8080/"
    },
    "executionInfo": {
     "elapsed": 722195,
     "status": "ok",
     "timestamp": 1697809613790,
     "user": {
      "displayName": "Xander Byrne",
      "userId": "16624359446890840019"
     },
     "user_tz": -60
    },
    "id": "qs-9OBA42G2d",
    "outputId": "d8cc59ee-26f9-455c-85ab-442463a5c771"
   },
   "outputs": [
    {
     "name": "stdout",
     "output_type": "stream",
     "text": [
      "Epoch 1/100\n"
     ]
    },
    {
     "name": "stderr",
     "output_type": "stream",
     "text": [
      "WARNING:tensorflow:5 out of the last 5 calls to <function _BaseOptimizer._update_step_xla at 0x7cc0200f6ef0> triggered tf.function retracing. Tracing is expensive and the excessive number of tracings could be due to (1) creating @tf.function repeatedly in a loop, (2) passing tensors with different shapes, (3) passing Python objects instead of tensors. For (1), please define your @tf.function outside of the loop. For (2), @tf.function has reduce_retracing=True option that can avoid unnecessary retracing. For (3), please refer to https://www.tensorflow.org/guide/function#controlling_retracing and https://www.tensorflow.org/api_docs/python/tf/function for  more details.\n",
      "WARNING:tensorflow:6 out of the last 6 calls to <function _BaseOptimizer._update_step_xla at 0x7cc0200f6ef0> triggered tf.function retracing. Tracing is expensive and the excessive number of tracings could be due to (1) creating @tf.function repeatedly in a loop, (2) passing tensors with different shapes, (3) passing Python objects instead of tensors. For (1), please define your @tf.function outside of the loop. For (2), @tf.function has reduce_retracing=True option that can avoid unnecessary retracing. For (3), please refer to https://www.tensorflow.org/guide/function#controlling_retracing and https://www.tensorflow.org/api_docs/python/tf/function for  more details.\n"
     ]
    },
    {
     "name": "stdout",
     "output_type": "stream",
     "text": [
      "55/55 [==============================] - 20s 153ms/step - loss: 5.6540\n",
      "Epoch 2/100\n",
      "55/55 [==============================] - 7s 136ms/step - loss: 5.5323\n",
      "Epoch 3/100\n",
      "55/55 [==============================] - 8s 140ms/step - loss: 5.5009\n",
      "Epoch 4/100\n",
      "55/55 [==============================] - 9s 159ms/step - loss: 5.4668\n",
      "Epoch 5/100\n",
      "55/55 [==============================] - 7s 136ms/step - loss: 5.3099\n",
      "Epoch 6/100\n",
      "55/55 [==============================] - 8s 151ms/step - loss: 4.7674\n",
      "Epoch 7/100\n",
      "55/55 [==============================] - 8s 151ms/step - loss: 4.3037\n",
      "Epoch 8/100\n",
      "55/55 [==============================] - 8s 143ms/step - loss: 3.9260\n",
      "Epoch 9/100\n",
      "55/55 [==============================] - 8s 153ms/step - loss: 3.6771\n",
      "Epoch 10/100\n",
      "55/55 [==============================] - 8s 142ms/step - loss: 3.6007\n",
      "Epoch 11/100\n",
      "55/55 [==============================] - 8s 150ms/step - loss: 3.5124\n",
      "Epoch 12/100\n",
      "55/55 [==============================] - 9s 155ms/step - loss: 3.4286\n",
      "Epoch 13/100\n",
      "55/55 [==============================] - 8s 140ms/step - loss: 3.3417\n",
      "Epoch 14/100\n",
      "55/55 [==============================] - 9s 159ms/step - loss: 3.1887\n",
      "Epoch 15/100\n",
      "55/55 [==============================] - 9s 159ms/step - loss: 3.0889\n",
      "Epoch 16/100\n",
      "55/55 [==============================] - 8s 148ms/step - loss: 3.1013\n",
      "Epoch 17/100\n",
      "55/55 [==============================] - 9s 160ms/step - loss: 2.9830\n",
      "Epoch 18/100\n",
      "55/55 [==============================] - 8s 150ms/step - loss: 2.9761\n",
      "Epoch 19/100\n",
      "55/55 [==============================] - 8s 151ms/step - loss: 2.8988\n",
      "Epoch 20/100\n",
      "55/55 [==============================] - 9s 158ms/step - loss: 2.8663\n",
      "Epoch 21/100\n",
      "55/55 [==============================] - 8s 142ms/step - loss: 2.8384\n",
      "Epoch 22/100\n",
      "55/55 [==============================] - 9s 161ms/step - loss: 2.7642\n",
      "Epoch 23/100\n",
      "55/55 [==============================] - 9s 158ms/step - loss: 2.7426\n",
      "Epoch 24/100\n",
      "55/55 [==============================] - 8s 145ms/step - loss: 2.7192\n",
      "Epoch 25/100\n",
      "55/55 [==============================] - 9s 157ms/step - loss: 2.6467\n",
      "Epoch 26/100\n",
      "55/55 [==============================] - 8s 151ms/step - loss: 2.6056\n",
      "Epoch 27/100\n",
      "55/55 [==============================] - 8s 149ms/step - loss: 2.5615\n",
      "Epoch 28/100\n",
      "55/55 [==============================] - 9s 160ms/step - loss: 2.5898\n",
      "Epoch 29/100\n",
      "55/55 [==============================] - 8s 143ms/step - loss: 2.5278\n",
      "Epoch 30/100\n",
      "55/55 [==============================] - 9s 154ms/step - loss: 2.5214\n",
      "Epoch 31/100\n",
      "55/55 [==============================] - 9s 156ms/step - loss: 2.4571\n",
      "Epoch 32/100\n",
      "55/55 [==============================] - 8s 138ms/step - loss: 2.4872\n",
      "Epoch 33/100\n",
      "55/55 [==============================] - 9s 156ms/step - loss: 2.4087\n",
      "Epoch 34/100\n",
      "55/55 [==============================] - 9s 160ms/step - loss: 2.3951\n",
      "Epoch 35/100\n",
      "55/55 [==============================] - 9s 155ms/step - loss: 2.3759\n",
      "Epoch 36/100\n",
      "55/55 [==============================] - 9s 157ms/step - loss: 2.3452\n",
      "Epoch 37/100\n",
      "55/55 [==============================] - 8s 139ms/step - loss: 2.3539\n",
      "Epoch 38/100\n",
      "55/55 [==============================] - 9s 157ms/step - loss: 2.3243\n",
      "Epoch 39/100\n",
      "55/55 [==============================] - 9s 159ms/step - loss: 2.3059\n",
      "Epoch 40/100\n",
      "55/55 [==============================] - 8s 144ms/step - loss: 2.3180\n",
      "Epoch 41/100\n",
      "55/55 [==============================] - 9s 160ms/step - loss: 2.3271\n",
      "Epoch 42/100\n",
      "55/55 [==============================] - 8s 151ms/step - loss: 2.3057\n",
      "Epoch 43/100\n",
      "55/55 [==============================] - 8s 148ms/step - loss: 2.2825\n",
      "Epoch 44/100\n",
      "55/55 [==============================] - 9s 158ms/step - loss: 2.2116\n",
      "Epoch 45/100\n",
      "55/55 [==============================] - 8s 140ms/step - loss: 2.2342\n",
      "Epoch 46/100\n",
      "55/55 [==============================] - 9s 158ms/step - loss: 2.1841\n",
      "Epoch 47/100\n",
      "55/55 [==============================] - 9s 159ms/step - loss: 2.1847\n",
      "Epoch 48/100\n",
      "55/55 [==============================] - 8s 143ms/step - loss: 2.1444\n",
      "Epoch 49/100\n",
      "55/55 [==============================] - 8s 152ms/step - loss: 2.1416\n",
      "Epoch 50/100\n",
      "55/55 [==============================] - 8s 151ms/step - loss: 2.1603\n",
      "Epoch 51/100\n",
      "55/55 [==============================] - 8s 136ms/step - loss: 2.1464\n",
      "Epoch 52/100\n",
      "55/55 [==============================] - 8s 146ms/step - loss: 2.1384\n",
      "Epoch 53/100\n",
      "55/55 [==============================] - 7s 133ms/step - loss: 2.1127\n",
      "Epoch 54/100\n",
      "55/55 [==============================] - 8s 148ms/step - loss: 2.0899\n",
      "Epoch 55/100\n",
      "55/55 [==============================] - 8s 148ms/step - loss: 2.1162\n",
      "Epoch 56/100\n",
      "55/55 [==============================] - 7s 132ms/step - loss: 2.1283\n",
      "Epoch 57/100\n",
      "55/55 [==============================] - 8s 144ms/step - loss: 2.0649\n",
      "Epoch 58/100\n",
      "55/55 [==============================] - 7s 133ms/step - loss: 2.0408\n",
      "Epoch 59/100\n",
      "55/55 [==============================] - 8s 144ms/step - loss: 2.0535\n",
      "Epoch 60/100\n",
      "55/55 [==============================] - 8s 142ms/step - loss: 2.0358\n",
      "Epoch 61/100\n",
      "55/55 [==============================] - 7s 133ms/step - loss: 2.0231\n",
      "Epoch 62/100\n",
      "55/55 [==============================] - 8s 147ms/step - loss: 1.9675\n",
      "Epoch 63/100\n",
      "55/55 [==============================] - 7s 131ms/step - loss: 2.0610\n",
      "Epoch 64/100\n",
      "55/55 [==============================] - 8s 146ms/step - loss: 2.0036\n",
      "Epoch 65/100\n",
      "55/55 [==============================] - 8s 142ms/step - loss: 2.0447\n",
      "Epoch 66/100\n",
      "55/55 [==============================] - 8s 137ms/step - loss: 2.0168\n",
      "Epoch 67/100\n",
      "55/55 [==============================] - 8s 146ms/step - loss: 1.9425\n",
      "Epoch 68/100\n",
      "55/55 [==============================] - 7s 130ms/step - loss: 1.9351\n",
      "Epoch 69/100\n",
      "55/55 [==============================] - 8s 145ms/step - loss: 1.9722\n",
      "Epoch 70/100\n",
      "55/55 [==============================] - 8s 141ms/step - loss: 1.9291\n",
      "Epoch 71/100\n",
      "55/55 [==============================] - 7s 135ms/step - loss: 1.9410\n",
      "Epoch 72/100\n",
      "55/55 [==============================] - 8s 148ms/step - loss: 1.9461\n",
      "Epoch 73/100\n",
      "55/55 [==============================] - 7s 131ms/step - loss: 1.9229\n",
      "Epoch 74/100\n",
      "55/55 [==============================] - 8s 149ms/step - loss: 1.9279\n",
      "Epoch 75/100\n",
      "55/55 [==============================] - 8s 145ms/step - loss: 1.8791\n",
      "Epoch 76/100\n",
      "55/55 [==============================] - 7s 136ms/step - loss: 1.8873\n",
      "Epoch 77/100\n",
      "55/55 [==============================] - 8s 144ms/step - loss: 1.8825\n",
      "Epoch 78/100\n",
      "55/55 [==============================] - 7s 133ms/step - loss: 1.8933\n",
      "Epoch 79/100\n",
      "55/55 [==============================] - 8s 147ms/step - loss: 1.8518\n",
      "Epoch 80/100\n",
      "55/55 [==============================] - 8s 138ms/step - loss: 1.8311\n",
      "Epoch 81/100\n",
      "55/55 [==============================] - 8s 136ms/step - loss: 1.8857\n",
      "Epoch 82/100\n",
      "55/55 [==============================] - 8s 145ms/step - loss: 1.8561\n",
      "Epoch 83/100\n",
      "55/55 [==============================] - 7s 133ms/step - loss: 1.8355\n",
      "Epoch 84/100\n",
      "55/55 [==============================] - 8s 145ms/step - loss: 1.8291\n",
      "Epoch 85/100\n",
      "55/55 [==============================] - 7s 136ms/step - loss: 1.7982\n",
      "Epoch 86/100\n",
      "55/55 [==============================] - 8s 141ms/step - loss: 1.8653\n",
      "Epoch 87/100\n",
      "55/55 [==============================] - 8s 147ms/step - loss: 1.8448\n",
      "Epoch 88/100\n",
      "55/55 [==============================] - 7s 131ms/step - loss: 1.7909\n",
      "Epoch 88: early stopping\n"
     ]
    }
   ],
   "source": [
    "# Training model\n",
    "history = contrastor.fit(\n",
    "    contrastive_utils.normalise_imgs(imgs),\n",
    "    batch_size=128,\n",
    "    epochs=100,\n",
    "    callbacks=[EarlyStopping(\n",
    "        monitor=\"loss\",\n",
    "        mode=\"min\",\n",
    "        patience=5,\n",
    "        verbose=1,\n",
    "        min_delta=0.01\n",
    "    )],\n",
    ")\n",
    "contrastor.save_weights('./models/contrastor', save_format='tf')"
   ]
  },
  {
   "cell_type": "code",
   "execution_count": 5,
   "metadata": {
    "executionInfo": {
     "elapsed": 6765,
     "status": "ok",
     "timestamp": 1697809620551,
     "user": {
      "displayName": "Xander Byrne",
      "userId": "16624359446890840019"
     },
     "user_tz": -60
    },
    "id": "ZXHBqOdl76ob"
   },
   "outputs": [],
   "source": [
    "# Forward passing the original images\n",
    "encoded_imgs = contrastor.encoder(\n",
    "    contrastive_utils.normalise_imgs(imgs[:, 2:-2, 2:-2, :])\n",
    ").numpy()\n",
    "encoded_imgs = np.array([enc_img / np.linalg.norm(enc_img) for enc_img in encoded_imgs])\n",
    "np.savez_compressed('./data/processed/encoded_imgs', ids=ids, encoded_imgs=encoded_imgs)"
   ]
  },
  {
   "cell_type": "code",
   "execution_count": 1,
   "metadata": {
    "executionInfo": {
     "elapsed": 1060,
     "status": "ok",
     "timestamp": 1697809621608,
     "user": {
      "displayName": "Xander Byrne",
      "userId": "16624359446890840019"
     },
     "user_tz": -60
    },
    "id": "Xi0iv_X3GrK4"
   },
   "outputs": [],
   "source": [
    "import numpy as np\n",
    "import pandas as pd\n",
    "import matplotlib.pyplot as plt\n",
    "from sklearn.manifold import TSNE"
   ]
  },
  {
   "cell_type": "code",
   "execution_count": 2,
   "metadata": {
    "executionInfo": {
     "elapsed": 1071,
     "status": "ok",
     "timestamp": 1697809622677,
     "user": {
      "displayName": "Xander Byrne",
      "userId": "16624359446890840019"
     },
     "user_tz": -60
    },
    "id": "Hmhtw5H0ajGf"
   },
   "outputs": [],
   "source": [
    "fl = np.load('./data/processed/encoded_imgs.npz')\n",
    "ids = fl['ids']\n",
    "enc_imgs = fl['encoded_imgs']\n",
    "hzq_df = pd.read_csv('./data/external/known_hzqs.csv')\n",
    "hzq_cois = [coi for coi in hzq_df['COADD_OBJECT_ID']\n",
    "           if str(coi) in ids]"
   ]
  },
  {
   "cell_type": "code",
   "execution_count": 3,
   "metadata": {
    "executionInfo": {
     "elapsed": 68055,
     "status": "ok",
     "timestamp": 1697809690729,
     "user": {
      "displayName": "Xander Byrne",
      "userId": "16624359446890840019"
     },
     "user_tz": -60
    },
    "id": "59lAivlZbBxT"
   },
   "outputs": [],
   "source": [
    "embedding = TSNE(n_components=2, perplexity=10).fit_transform(enc_imgs)"
   ]
  },
  {
   "cell_type": "code",
   "execution_count": 4,
   "metadata": {
    "colab": {
     "base_uri": "https://localhost:8080/",
     "height": 447
    },
    "executionInfo": {
     "elapsed": 719,
     "status": "ok",
     "timestamp": 1697809691442,
     "user": {
      "displayName": "Xander Byrne",
      "userId": "16624359446890840019"
     },
     "user_tz": -60
    },
    "id": "eeEOeO15ccvT",
    "outputId": "f8bb25f5-90e4-4cf4-d948-85c4e6fbcb0d"
   },
   "outputs": [
    {
     "data": {
      "text/plain": [
       "<matplotlib.collections.PathCollection at 0x7fc1af13cd50>"
      ]
     },
     "execution_count": 4,
     "metadata": {},
     "output_type": "execute_result"
    },
    {
     "data": {
      "image/png": "[encoded data removed]",
      "text/plain": [
       "<Figure size 640x480 with 1 Axes>"
      ]
     },
     "metadata": {},
     "output_type": "display_data"
    }
   ],
   "source": [
    "plt.scatter(\n",
    "    embedding[:,0], embedding[:,1], s=1\n",
    ")\n",
    "plt.scatter(\n",
    "    [embedding[ids.astype(int)==coi,0] for coi in hzq_cois],\n",
    "    [embedding[ids.astype(int)==coi,1] for coi in hzq_cois],\n",
    "    marker='+'\n",
    ")"
   ]
  },
  {
   "cell_type": "code",
   "execution_count": 5,
   "metadata": {},
   "outputs": [
    {
     "data": {
      "text/plain": [
       "(-15.0, 0.0)"
      ]
     },
     "execution_count": 5,
     "metadata": {},
     "output_type": "execute_result"
    },
    {
     "data": {
      "image/png": "[encoded data removed]",
      "text/plain": [
       "<Figure size 640x480 with 1 Axes>"
      ]
     },
     "metadata": {},
     "output_type": "display_data"
    }
   ],
   "source": [
    "plt.scatter(\n",
    "    embedding[:,0], embedding[:,1], s=1\n",
    ")\n",
    "plt.scatter(\n",
    "    [embedding[ids.astype(int)==coi,0] for coi in hzq_cois],\n",
    "    [embedding[ids.astype(int)==coi,1] for coi in hzq_cois],\n",
    "    marker='+'\n",
    ")\n",
    "plt.xlim(70,85) # These limits may need to\n",
    "plt.ylim(-15,0) # be adjusted"
   ]
  },
  {
   "cell_type": "code",
   "execution_count": 8,
   "metadata": {},
   "outputs": [],
   "source": [
    "np.savez_compressed(\n",
    "    './data/processed/embedding.npz',\n",
    "    ids=ids,\n",
    "    embedding=embedding\n",
    ")"
   ]
  },
  {
   "cell_type": "code",
   "execution_count": 40,
   "metadata": {},
   "outputs": [
    {
     "name": "stdout",
     "output_type": "stream",
     "text": [
      "['1228745162' '1413280997' '1695974542' '1143273115' '1456016600'\n",
      " '1599741416' '1096344653' '1513805078' '1271696125' '1197311621'\n",
      " '1250552714']\n"
     ]
    }
   ],
   "source": [
    "quasar_ids = ids[\n",
    "    (76<embedding[:,0])\n",
    "    &(embedding[:,0]<82)\n",
    "    &(-6<embedding[:,1])\n",
    "    &(embedding[:,1]<0)\n",
    "]\n",
    "np.savez_compressed(\n",
    "    './data/processed/quasar_ids.npz',\n",
    "    ids=quasar_ids\n",
    ")\n",
    "print(quasar_ids)"
   ]
  }
 ],
 "metadata": {
  "accelerator": "GPU",
  "colab": {
   "authorship_tag": "ABX9TyML+Q7ThyyjXphvtdNK78hk",
   "gpuType": "T4",
   "mount_file_id": "10DlAiD_Kjd9Ni34aKmBo5f5urdVuEKW0",
   "provenance": []
  },
  "kernelspec": {
   "display_name": "Python 3 (ipykernel)",
   "language": "python",
   "name": "python3"
  },
  "language_info": {
   "codemirror_mode": {
    "name": "ipython",
    "version": 3
   },
   "file_extension": ".py",
   "mimetype": "text/x-python",
   "name": "python",
   "nbconvert_exporter": "python",
   "pygments_lexer": "ipython3",
   "version": "3.11.5"
  }
 },
 "nbformat": 4,
 "nbformat_minor": 1
}
