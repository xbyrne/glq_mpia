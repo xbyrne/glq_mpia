{
 "cells": [
  {
   "cell_type": "code",
   "execution_count": 10,
   "metadata": {},
   "outputs": [],
   "source": [
    "import numpy as np\n",
    "import pandas as pd\n",
    "from tqdm import tqdm\n",
    "from astropy.io import fits\n",
    "import myutils\n",
    "import matplotlib.pyplot as plt"
   ]
  },
  {
   "cell_type": "code",
   "execution_count": 69,
   "metadata": {},
   "outputs": [
    {
     "name": "stderr",
     "output_type": "stream",
     "text": [
      "  0%|          | 2/6566 [00:41<37:57:46, 20.82s/it]\n"
     ]
    }
   ],
   "source": [
    "coords_df = pd.read_csv(\"./data/processed/cut_crossmatched_objects.csv\", index_col=0)[['ra_des','dec_des']]\n",
    "BAND_ORDER = {\"g\": 0, \"r\": 1, \"i\": 2, \"z\": 3, \"Y\": 4}\n",
    "all_imgs_array = np.zeros((len(coords_df), 28, 28, 5))\n",
    "failed_object_mask = np.zeros(len(coords_df)).astype(bool)\n",
    "# NOTE: remove [:2] from iteration\n",
    "for i, (coadd_id, (ra, dec)) in tqdm(enumerate(coords_df[:2].iterrows()), total=len(coords_df)):\n",
    "    FAILED_OBJECT_FLAG = False\n",
    "    url_list = myutils.fetch_object_urls(ra, dec)\n",
    "    if len(url_list) != 5:\n",
    "        FAILED_OBJECT_FLAG = True\n",
    "        failed_object_mask[i]=True\n",
    "        break\n",
    "    obj_array = np.zeros((28,28,5), dtype=np.float32)\n",
    "    for url in url_list:\n",
    "        if FAILED_OBJECT_FLAG:\n",
    "            break\n",
    "        raw_img = fits.open(url, cache=False)[0].data\n",
    "        # TODO: What to do if image opening fails? In what ways does it fail?\n",
    "        processed_img = myutils.crop_image(raw_img, px=28)\n",
    "        if processed_img is None:\n",
    "            FAILED_OBJECT_FLAG = True\n",
    "            failed_object_mask[i]=True\n",
    "            break\n",
    "        band = myutils.band_from_url(url)\n",
    "        obj_array[:, :, BAND_ORDER[band]] = processed_img\n",
    "    if not FAILED_OBJECT_FLAG:\n",
    "        all_imgs_array[i,:,:,:] = obj_array\n",
    "\n",
    "success_coadd_ids = coords_df.index[~failed_object_mask]\n",
    "success_imgs_array = all_imgs_array[~failed_object_mask]"
   ]
  },
  {
   "cell_type": "code",
   "execution_count": 67,
   "metadata": {},
   "outputs": [],
   "source": [
    "failed_object_mask = np.random.randint(0,200,(len(coords_df)))\n",
    "failed_object_mask = np.array([0 if flag else 1 for flag in failed_object_mask]).astype(bool)\n",
    "all_imgs_array = np.abs(np.random.normal(size=(len(coords_df), 28, 28, 5))) * 1e4\n",
    "success_imgs_array = all_imgs_array[~failed_object_mask]\n",
    "success_coadd_ids = coords_df.index[~failed_object_mask]"
   ]
  },
  {
   "cell_type": "code",
   "execution_count": 68,
   "metadata": {},
   "outputs": [
    {
     "name": "stdout",
     "output_type": "stream",
     "text": [
      "(6528,) (6528, 28, 28, 5)\n"
     ]
    }
   ],
   "source": [
    "print(f'{success_coadd_ids.shape} {success_imgs_array.shape}')"
   ]
  },
  {
   "cell_type": "code",
   "execution_count": 281,
   "metadata": {},
   "outputs": [
    {
     "name": "stdout",
     "output_type": "stream",
     "text": [
      "3296 3296\n"
     ]
    }
   ],
   "source": [
    "coadd_ids = pd.read_csv('../data/processed/cut_crossmatched_objects.csv', index_col=0).index\n",
    "failed_object_mask = np.random.randint(0,2,len(coords_df))\n",
    "success_ids = np.ma.masked_array(coords_df.to_numpy(),failed_object_mask)\n",
    "print(f'{sum(failed_object_mask)} {len(success_ids[success_ids.mask].data)}')"
   ]
  },
  {
   "cell_type": "code",
   "execution_count": 278,
   "metadata": {},
   "outputs": [
    {
     "data": {
      "text/plain": [
       "array([0, 1, 0, ..., 1, 0, 1])"
      ]
     },
     "execution_count": 278,
     "metadata": {},
     "output_type": "execute_result"
    }
   ],
   "source": [
    "failed_object_mask"
   ]
  }
 ],
 "metadata": {
  "kernelspec": {
   "display_name": "qso",
   "language": "python",
   "name": "python3"
  },
  "language_info": {
   "codemirror_mode": {
    "name": "ipython",
    "version": 3
   },
   "file_extension": ".py",
   "mimetype": "text/x-python",
   "name": "python",
   "nbconvert_exporter": "python",
   "pygments_lexer": "ipython3",
   "version": "3.10.6"
  },
  "orig_nbformat": 4
 },
 "nbformat": 4,
 "nbformat_minor": 2
}
