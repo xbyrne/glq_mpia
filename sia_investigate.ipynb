{
 "cells": [
  {
   "cell_type": "code",
   "execution_count": 1,
   "metadata": {},
   "outputs": [
    {
     "ename": "ModuleNotFoundError",
     "evalue": "No module named 'pandas'",
     "output_type": "error",
     "traceback": [
      "\u001b[0;31m---------------------------------------------------------------------------\u001b[0m",
      "\u001b[0;31mModuleNotFoundError\u001b[0m                       Traceback (most recent call last)",
      "Cell \u001b[0;32mIn[1], line 2\u001b[0m\n\u001b[1;32m      1\u001b[0m \u001b[39mimport\u001b[39;00m \u001b[39mnumpy\u001b[39;00m \u001b[39mas\u001b[39;00m \u001b[39mnp\u001b[39;00m\n\u001b[0;32m----> 2\u001b[0m \u001b[39mimport\u001b[39;00m \u001b[39mpandas\u001b[39;00m \u001b[39mas\u001b[39;00m \u001b[39mpd\u001b[39;00m\n\u001b[1;32m      3\u001b[0m \u001b[39mfrom\u001b[39;00m \u001b[39mtqdm\u001b[39;00m \u001b[39mimport\u001b[39;00m tqdm\n\u001b[1;32m      4\u001b[0m \u001b[39mfrom\u001b[39;00m \u001b[39mastropy\u001b[39;00m\u001b[39m.\u001b[39;00m\u001b[39mio\u001b[39;00m \u001b[39mimport\u001b[39;00m fits\n",
      "\u001b[0;31mModuleNotFoundError\u001b[0m: No module named 'pandas'"
     ]
    }
   ],
   "source": [
    "import numpy as np\n",
    "import pandas as pd\n",
    "from tqdm import tqdm\n",
    "from astropy.io import fits\n",
    "import myutils\n",
    "import matplotlib.pyplot as plt"
   ]
  },
  {
   "cell_type": "code",
   "execution_count": 69,
   "metadata": {},
   "outputs": [
    {
     "name": "stderr",
     "output_type": "stream",
     "text": [
      "  0%|          | 2/6566 [00:41<37:57:46, 20.82s/it]\n"
     ]
    }
   ],
   "source": [
    "coords_df = pd.read_csv(\"./data/processed/cut_crossmatched_objects.csv\", index_col=0)[['ra_des','dec_des']]\n",
    "BAND_ORDER = {\"g\": 0, \"r\": 1, \"i\": 2, \"z\": 3, \"Y\": 4}\n",
    "all_imgs_array = np.zeros((len(coords_df), 28, 28, 5))\n",
    "failed_object_mask = np.zeros(len(coords_df)).astype(bool)\n",
    "# NOTE: remove [:2] from iteration\n",
    "for i, (coadd_id, (ra, dec)) in tqdm(enumerate(coords_df[:2].iterrows()), total=len(coords_df)):\n",
    "    FAILED_OBJECT_FLAG = False\n",
    "    url_list = myutils.fetch_object_urls(ra, dec)\n",
    "    if len(url_list) != 5:\n",
    "        FAILED_OBJECT_FLAG = True\n",
    "        failed_object_mask[i]=True\n",
    "        break\n",
    "    obj_array = np.zeros((28,28,5), dtype=np.float32)\n",
    "    for url in url_list:\n",
    "        if FAILED_OBJECT_FLAG:\n",
    "            break\n",
    "        raw_img = fits.open(url, cache=False)[0].data\n",
    "        # TODO: What to do if image opening fails? In what ways does it fail?\n",
    "        processed_img = myutils.crop_image(raw_img, px=28)\n",
    "        if processed_img is None:\n",
    "            FAILED_OBJECT_FLAG = True\n",
    "            failed_object_mask[i]=True\n",
    "            break\n",
    "        band = myutils.band_from_url(url)\n",
    "        obj_array[:, :, BAND_ORDER[band]] = processed_img\n",
    "    if not FAILED_OBJECT_FLAG:\n",
    "        all_imgs_array[i,:,:,:] = obj_array\n",
    "\n",
    "success_coadd_ids = coords_df.index[~failed_object_mask]\n",
    "success_imgs_array = all_imgs_array[~failed_object_mask]"
   ]
  },
  {
   "cell_type": "code",
   "execution_count": 67,
   "metadata": {},
   "outputs": [],
   "source": [
    "failed_object_mask = np.random.randint(0,200,(len(coords_df)))\n",
    "failed_object_mask = np.array([0 if flag else 1 for flag in failed_object_mask]).astype(bool)\n",
    "all_imgs_array = np.abs(np.random.normal(size=(len(coords_df), 28, 28, 5))) * 1e4\n",
    "success_imgs_array = all_imgs_array[~failed_object_mask]\n",
    "success_coadd_ids = coords_df.index[~failed_object_mask]"
   ]
  },
  {
   "cell_type": "code",
   "execution_count": 12,
   "metadata": {},
   "outputs": [],
   "source": [
    "import os\n",
    "import numpy as np\n",
    "import myutils\n",
    "\n",
    "BAND_ORDER = {\"g\": 0, \"r\": 1, \"i\": 2, \"z\": 3, \"Y\": 4}\n",
    "\n",
    "with open(\"./data/external/img_url_list.txt\", \"r\") as f:\n",
    "    url_filetext = f.read()\n",
    "\n",
    "urls_list_by_object = url_filetext.split(\"#\")[1:]\n",
    "num_objs = len(urls_list_by_object)\n",
    "coadd_ids = np.zeros(num_objs)\n",
    "failed_mask = np.zeros(num_objs).astype(bool)\n",
    "imgs = np.zeros((num_objs, 28, 28, 5))\n",
    "\n",
    "DOWNLOADED_FILENAME = \"./data/external/wget_file\""
   ]
  },
  {
   "cell_type": "code",
   "execution_count": 15,
   "metadata": {},
   "outputs": [
    {
     "ename": "FileNotFoundError",
     "evalue": "[Errno 2] No such file or directory: './data/external/wget_file'",
     "output_type": "error",
     "traceback": [
      "\u001b[1;31m---------------------------------------------------------------------------\u001b[0m",
      "\u001b[1;31mFileNotFoundError\u001b[0m                         Traceback (most recent call last)",
      "\u001b[1;32mc:\\Users\\byrne\\OneDrive - University of Cambridge\\MPIA\\new_repo\\glq_mpia\\sia_investigate.ipynb Cell 5\u001b[0m in \u001b[0;36m<cell line: 1>\u001b[1;34m()\u001b[0m\n\u001b[0;32m      <a href='vscode-notebook-cell:/c%3A/Users/byrne/OneDrive%20-%20University%20of%20Cambridge/MPIA/new_repo/glq_mpia/sia_investigate.ipynb#W6sZmlsZQ%3D%3D?line=8'>9</a>\u001b[0m band \u001b[39m=\u001b[39m myutils\u001b[39m.\u001b[39mband_from_url(url)  \u001b[39m# g/r/i/z/Y\u001b[39;00m\n\u001b[0;32m     <a href='vscode-notebook-cell:/c%3A/Users/byrne/OneDrive%20-%20University%20of%20Cambridge/MPIA/new_repo/glq_mpia/sia_investigate.ipynb#W6sZmlsZQ%3D%3D?line=10'>11</a>\u001b[0m os\u001b[39m.\u001b[39msystem(\n\u001b[0;32m     <a href='vscode-notebook-cell:/c%3A/Users/byrne/OneDrive%20-%20University%20of%20Cambridge/MPIA/new_repo/glq_mpia/sia_investigate.ipynb#W6sZmlsZQ%3D%3D?line=11'>12</a>\u001b[0m     \u001b[39mf\u001b[39m\u001b[39m\"\u001b[39m\u001b[39mwget -nv -O \u001b[39m\u001b[39m{\u001b[39;00mDOWNLOADED_FILENAME\u001b[39m}\u001b[39;00m\u001b[39m \u001b[39m\u001b[39m'\u001b[39m\u001b[39m{\u001b[39;00murl\u001b[39m}\u001b[39;00m\u001b[39m'\u001b[39m\u001b[39m\"\u001b[39m\n\u001b[0;32m     <a href='vscode-notebook-cell:/c%3A/Users/byrne/OneDrive%20-%20University%20of%20Cambridge/MPIA/new_repo/glq_mpia/sia_investigate.ipynb#W6sZmlsZQ%3D%3D?line=12'>13</a>\u001b[0m )  \u001b[39m# Downloads file TODO: Could go wrong?\u001b[39;00m\n\u001b[1;32m---> <a href='vscode-notebook-cell:/c%3A/Users/byrne/OneDrive%20-%20University%20of%20Cambridge/MPIA/new_repo/glq_mpia/sia_investigate.ipynb#W6sZmlsZQ%3D%3D?line=13'>14</a>\u001b[0m raw_img \u001b[39m=\u001b[39m myutils\u001b[39m.\u001b[39;49mfetch_image(\n\u001b[0;32m     <a href='vscode-notebook-cell:/c%3A/Users/byrne/OneDrive%20-%20University%20of%20Cambridge/MPIA/new_repo/glq_mpia/sia_investigate.ipynb#W6sZmlsZQ%3D%3D?line=14'>15</a>\u001b[0m     DOWNLOADED_FILENAME\n\u001b[0;32m     <a href='vscode-notebook-cell:/c%3A/Users/byrne/OneDrive%20-%20University%20of%20Cambridge/MPIA/new_repo/glq_mpia/sia_investigate.ipynb#W6sZmlsZQ%3D%3D?line=15'>16</a>\u001b[0m )  \u001b[39m# Extracts image from fits file TODO: Could go wrong?\u001b[39;00m\n\u001b[0;32m     <a href='vscode-notebook-cell:/c%3A/Users/byrne/OneDrive%20-%20University%20of%20Cambridge/MPIA/new_repo/glq_mpia/sia_investigate.ipynb#W6sZmlsZQ%3D%3D?line=16'>17</a>\u001b[0m processed_img \u001b[39m=\u001b[39m myutils\u001b[39m.\u001b[39mcrop_image(raw_img)  \u001b[39m# Crops image to 28x28\u001b[39;00m\n\u001b[0;32m     <a href='vscode-notebook-cell:/c%3A/Users/byrne/OneDrive%20-%20University%20of%20Cambridge/MPIA/new_repo/glq_mpia/sia_investigate.ipynb#W6sZmlsZQ%3D%3D?line=17'>18</a>\u001b[0m \u001b[39mif\u001b[39;00m processed_img \u001b[39mis\u001b[39;00m \u001b[39mNone\u001b[39;00m:\n",
      "File \u001b[1;32mc:\\Users\\byrne\\OneDrive - University of Cambridge\\MPIA\\new_repo\\glq_mpia\\myutils.py:63\u001b[0m, in \u001b[0;36mfetch_image\u001b[1;34m(filename)\u001b[0m\n\u001b[0;32m     61\u001b[0m \u001b[39m\"\"\"Fetches image from URL without printing to stdout\"\"\"\u001b[39;00m\n\u001b[0;32m     62\u001b[0m \u001b[39m# TODO: What to do if image opening fails? In what ways does it fail?\u001b[39;00m\n\u001b[1;32m---> 63\u001b[0m img \u001b[39m=\u001b[39m fits\u001b[39m.\u001b[39;49mopen(filename, cache\u001b[39m=\u001b[39;49m\u001b[39mFalse\u001b[39;49;00m)[\u001b[39m0\u001b[39m]\u001b[39m.\u001b[39mdata\n\u001b[0;32m     64\u001b[0m \u001b[39mreturn\u001b[39;00m img\n",
      "File \u001b[1;32mc:\\Users\\byrne\\anaconda3\\envs\\qso\\lib\\site-packages\\astropy\\io\\fits\\hdu\\hdulist.py:175\u001b[0m, in \u001b[0;36mfitsopen\u001b[1;34m(name, mode, memmap, save_backup, cache, lazy_load_hdus, ignore_missing_simple, **kwargs)\u001b[0m\n\u001b[0;32m    172\u001b[0m \u001b[39mif\u001b[39;00m \u001b[39mnot\u001b[39;00m name:\n\u001b[0;32m    173\u001b[0m     \u001b[39mraise\u001b[39;00m \u001b[39mValueError\u001b[39;00m(\u001b[39mf\u001b[39m\u001b[39m'\u001b[39m\u001b[39mEmpty filename: \u001b[39m\u001b[39m{\u001b[39;00mname\u001b[39m!r}\u001b[39;00m\u001b[39m'\u001b[39m)\n\u001b[1;32m--> 175\u001b[0m \u001b[39mreturn\u001b[39;00m HDUList\u001b[39m.\u001b[39mfromfile(name, mode, memmap, save_backup, cache,\n\u001b[0;32m    176\u001b[0m                         lazy_load_hdus, ignore_missing_simple, \u001b[39m*\u001b[39m\u001b[39m*\u001b[39mkwargs)\n",
      "File \u001b[1;32mc:\\Users\\byrne\\anaconda3\\envs\\qso\\lib\\site-packages\\astropy\\io\\fits\\hdu\\hdulist.py:410\u001b[0m, in \u001b[0;36mHDUList.fromfile\u001b[1;34m(cls, fileobj, mode, memmap, save_backup, cache, lazy_load_hdus, ignore_missing_simple, **kwargs)\u001b[0m\n\u001b[0;32m    398\u001b[0m \u001b[39m@classmethod\u001b[39m\n\u001b[0;32m    399\u001b[0m \u001b[39mdef\u001b[39;00m \u001b[39mfromfile\u001b[39m(\u001b[39mcls\u001b[39m, fileobj, mode\u001b[39m=\u001b[39m\u001b[39mNone\u001b[39;00m, memmap\u001b[39m=\u001b[39m\u001b[39mNone\u001b[39;00m,\n\u001b[0;32m    400\u001b[0m              save_backup\u001b[39m=\u001b[39m\u001b[39mFalse\u001b[39;00m, cache\u001b[39m=\u001b[39m\u001b[39mTrue\u001b[39;00m, lazy_load_hdus\u001b[39m=\u001b[39m\u001b[39mTrue\u001b[39;00m,\n\u001b[0;32m    401\u001b[0m              ignore_missing_simple\u001b[39m=\u001b[39m\u001b[39mFalse\u001b[39;00m, \u001b[39m*\u001b[39m\u001b[39m*\u001b[39mkwargs):\n\u001b[0;32m    402\u001b[0m     \u001b[39m\"\"\"\u001b[39;00m\n\u001b[0;32m    403\u001b[0m \u001b[39m    Creates an `HDUList` instance from a file-like object.\u001b[39;00m\n\u001b[0;32m    404\u001b[0m \n\u001b[1;32m   (...)\u001b[0m\n\u001b[0;32m    407\u001b[0m \u001b[39m    documentation for details of the parameters accepted by this method).\u001b[39;00m\n\u001b[0;32m    408\u001b[0m \u001b[39m    \"\"\"\u001b[39;00m\n\u001b[1;32m--> 410\u001b[0m     \u001b[39mreturn\u001b[39;00m \u001b[39mcls\u001b[39m\u001b[39m.\u001b[39m_readfrom(fileobj\u001b[39m=\u001b[39mfileobj, mode\u001b[39m=\u001b[39mmode, memmap\u001b[39m=\u001b[39mmemmap,\n\u001b[0;32m    411\u001b[0m                          save_backup\u001b[39m=\u001b[39msave_backup, cache\u001b[39m=\u001b[39mcache,\n\u001b[0;32m    412\u001b[0m                          ignore_missing_simple\u001b[39m=\u001b[39mignore_missing_simple,\n\u001b[0;32m    413\u001b[0m                          lazy_load_hdus\u001b[39m=\u001b[39mlazy_load_hdus, \u001b[39m*\u001b[39m\u001b[39m*\u001b[39mkwargs)\n",
      "File \u001b[1;32mc:\\Users\\byrne\\anaconda3\\envs\\qso\\lib\\site-packages\\astropy\\io\\fits\\hdu\\hdulist.py:1060\u001b[0m, in \u001b[0;36mHDUList._readfrom\u001b[1;34m(cls, fileobj, data, mode, memmap, cache, lazy_load_hdus, ignore_missing_simple, **kwargs)\u001b[0m\n\u001b[0;32m   1057\u001b[0m \u001b[39mif\u001b[39;00m fileobj \u001b[39mis\u001b[39;00m \u001b[39mnot\u001b[39;00m \u001b[39mNone\u001b[39;00m:\n\u001b[0;32m   1058\u001b[0m     \u001b[39mif\u001b[39;00m \u001b[39mnot\u001b[39;00m \u001b[39misinstance\u001b[39m(fileobj, _File):\n\u001b[0;32m   1059\u001b[0m         \u001b[39m# instantiate a FITS file object (ffo)\u001b[39;00m\n\u001b[1;32m-> 1060\u001b[0m         fileobj \u001b[39m=\u001b[39m _File(fileobj, mode\u001b[39m=\u001b[39;49mmode, memmap\u001b[39m=\u001b[39;49mmemmap, cache\u001b[39m=\u001b[39;49mcache)\n\u001b[0;32m   1061\u001b[0m     \u001b[39m# The Astropy mode is determined by the _File initializer if the\u001b[39;00m\n\u001b[0;32m   1062\u001b[0m     \u001b[39m# supplied mode was None\u001b[39;00m\n\u001b[0;32m   1063\u001b[0m     mode \u001b[39m=\u001b[39m fileobj\u001b[39m.\u001b[39mmode\n",
      "File \u001b[1;32mc:\\Users\\byrne\\anaconda3\\envs\\qso\\lib\\site-packages\\astropy\\io\\fits\\file.py:170\u001b[0m, in \u001b[0;36m_File.__init__\u001b[1;34m(self, fileobj, mode, memmap, overwrite, cache)\u001b[0m\n\u001b[0;32m    168\u001b[0m     \u001b[39mself\u001b[39m\u001b[39m.\u001b[39m_open_fileobj(fileobj, mode, overwrite)\n\u001b[0;32m    169\u001b[0m \u001b[39melif\u001b[39;00m \u001b[39misinstance\u001b[39m(fileobj, (\u001b[39mstr\u001b[39m, \u001b[39mbytes\u001b[39m)):\n\u001b[1;32m--> 170\u001b[0m     \u001b[39mself\u001b[39;49m\u001b[39m.\u001b[39;49m_open_filename(fileobj, mode, overwrite)\n\u001b[0;32m    171\u001b[0m \u001b[39melse\u001b[39;00m:\n\u001b[0;32m    172\u001b[0m     \u001b[39mself\u001b[39m\u001b[39m.\u001b[39m_open_filelike(fileobj, mode, overwrite)\n",
      "File \u001b[1;32mc:\\Users\\byrne\\anaconda3\\envs\\qso\\lib\\site-packages\\astropy\\io\\fits\\file.py:562\u001b[0m, in \u001b[0;36m_File._open_filename\u001b[1;34m(self, filename, mode, overwrite)\u001b[0m\n\u001b[0;32m    559\u001b[0m ext \u001b[39m=\u001b[39m os\u001b[39m.\u001b[39mpath\u001b[39m.\u001b[39msplitext(\u001b[39mself\u001b[39m\u001b[39m.\u001b[39mname)[\u001b[39m1\u001b[39m]\n\u001b[0;32m    561\u001b[0m \u001b[39mif\u001b[39;00m \u001b[39mnot\u001b[39;00m \u001b[39mself\u001b[39m\u001b[39m.\u001b[39m_try_read_compressed(\u001b[39mself\u001b[39m\u001b[39m.\u001b[39mname, magic, mode, ext\u001b[39m=\u001b[39mext):\n\u001b[1;32m--> 562\u001b[0m     \u001b[39mself\u001b[39m\u001b[39m.\u001b[39m_file \u001b[39m=\u001b[39m \u001b[39mopen\u001b[39;49m(\u001b[39mself\u001b[39;49m\u001b[39m.\u001b[39;49mname, IO_FITS_MODES[mode])\n\u001b[0;32m    563\u001b[0m     \u001b[39mself\u001b[39m\u001b[39m.\u001b[39mclose_on_error \u001b[39m=\u001b[39m \u001b[39mTrue\u001b[39;00m\n\u001b[0;32m    565\u001b[0m \u001b[39m# Make certain we're back at the beginning of the file\u001b[39;00m\n\u001b[0;32m    566\u001b[0m \u001b[39m# BZ2File does not support seek when the file is open for writing, but\u001b[39;00m\n\u001b[0;32m    567\u001b[0m \u001b[39m# when opening a file for write, bz2.BZ2File always truncates anyway.\u001b[39;00m\n",
      "\u001b[1;31mFileNotFoundError\u001b[0m: [Errno 2] No such file or directory: './data/external/wget_file'"
     ]
    }
   ],
   "source": [
    "for i, object_url_string in enumerate(urls_list_by_object[:5]):\n",
    "    FAILED_OBJECT_FLAG = False  # Innocent until proven guilty\n",
    "\n",
    "    lines = object_url_string.split()  # ID & list of URLs for a particular object\n",
    "    coadd_ids[i] = lines[0]  # Extra char at the start?\n",
    "    urls = lines[1:]\n",
    "\n",
    "    for url in urls:\n",
    "        band = myutils.band_from_url(url)  # g/r/i/z/Y\n",
    "\n",
    "        os.system(\n",
    "            f\"wget -nv -O {DOWNLOADED_FILENAME} '{url}'\"\n",
    "        )  # Downloads file TODO: Could go wrong?\n",
    "        raw_img = myutils.fetch_image(\n",
    "            DOWNLOADED_FILENAME\n",
    "        )  # Extracts image from fits file TODO: Could go wrong?\n",
    "        processed_img = myutils.crop_image(raw_img)  # Crops image to 28x28\n",
    "        if processed_img is None:\n",
    "            FAILED_OBJECT_FLAG = True\n",
    "            failed_mask[i] = True\n",
    "            break\n",
    "\n",
    "        imgs[i, :, :, BAND_ORDER[band]] = myutils.crop_image(\n",
    "            myutils.fetch_image(DOWNLOADED_FILENAME)\n",
    "        )"
   ]
  },
  {
   "cell_type": "code",
   "execution_count": 14,
   "metadata": {},
   "outputs": [
    {
     "data": {
      "text/plain": [
       "'https://datalab.noirlab.edu/svc/cutout?col=des_dr2&siaRef=DES2138-4249_r4575p01_Y.fits.fz&extn=1&POS=324.85072599999995,-42.589015&SIZE=0.0028297437687020643,0.0020833333333333333'"
      ]
     },
     "execution_count": 14,
     "metadata": {},
     "output_type": "execute_result"
    }
   ],
   "source": [
    "url"
   ]
  }
 ],
 "metadata": {
  "kernelspec": {
   "display_name": "qso",
   "language": "python",
   "name": "python3"
  },
  "language_info": {
   "codemirror_mode": {
    "name": "ipython",
    "version": 3
   },
   "file_extension": ".py",
   "mimetype": "text/x-python",
   "name": "python",
   "nbconvert_exporter": "python",
   "pygments_lexer": "ipython3",
   "version": "3.10.6"
  },
  "orig_nbformat": 4
 },
 "nbformat": 4,
 "nbformat_minor": 2
}
