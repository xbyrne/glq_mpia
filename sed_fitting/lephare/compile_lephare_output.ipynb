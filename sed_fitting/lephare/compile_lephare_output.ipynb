{
 "cells": [
  {
   "cell_type": "code",
   "execution_count": 7,
   "id": "320353ab",
   "metadata": {},
   "outputs": [],
   "source": [
    "import numpy as np\n",
    "from tqdm import tqdm"
   ]
  },
  {
   "cell_type": "code",
   "execution_count": 5,
   "id": "6a10f62f",
   "metadata": {},
   "outputs": [],
   "source": [
    "img_fl = np.load('../../downloading_data/images.npz')\n",
    "ids = img_fl['ids']"
   ]
  },
  {
   "cell_type": "code",
   "execution_count": 17,
   "id": "715bffb1",
   "metadata": {},
   "outputs": [],
   "source": [
    "def mag_to_flx(mag):\n",
    "    \"\"\"\n",
    "    Input: an AB magnitude\n",
    "    Output: a flux in microjansky (muJy)\n",
    "    Works with np arrays and pd Series\n",
    "    \"\"\"\n",
    "    return 10**(29-(48.60/2.5)) * 10**(-mag/2.5)\n",
    "\n",
    "def read_lephare_spectrum_file(id):\n",
    "    \"\"\"\n",
    "    Reads the file containing the output spectra for the inputted ID\n",
    "    \"\"\"\n",
    "    with open(f'output_spectra/Id{str(id)[-9:]}.spec','r') as f:\n",
    "        specfile_lines = f.read().split('\\n')\n",
    "    specfile_lines = [row.split() for row in specfile_lines]\n",
    "    return specfile_lines\n",
    "\n",
    "def get_lephare_spectrum(id, i): # i from 0 to 2\n",
    "    \"\"\"\n",
    "    Inputs: An ID, and an integer in [0,1,2]\n",
    "    Outputs: wavelengths, and a spectrum in muJy. The spectrum is the \n",
    "        LePHARE best fit spectrum for:\n",
    "            0: Galaxy\n",
    "            1: Quasar\n",
    "            2: Star\n",
    "    \"\"\"\n",
    "    file_lines = read_lephare_spectrum_file(id)\n",
    "    spectra = np.array(file_lines[171:][:-1]).astype('float32')\n",
    "    restart_indices = np.where(np.diff(spectra, axis=0)[:,0]<0)[0]\n",
    "    spec_list = np.split(spectra, restart_indices+1, axis=0)\n",
    "    x,y_mag = spec_list[i][:,0],spec_list[i][:,1]\n",
    "#     x,y_mag = x[(y_mag<100) & (y_mag!=0)], y_mag[(y_mag<100)&(y_mag!=0)] # Clipping ceilinged SED values\n",
    "    y = mag_to_flx(y_mag)\n",
    "    return x,y"
   ]
  },
  {
   "cell_type": "code",
   "execution_count": 24,
   "id": "05064a35",
   "metadata": {},
   "outputs": [
    {
     "data": {
      "text/plain": [
       "386"
      ]
     },
     "execution_count": 24,
     "metadata": {},
     "output_type": "execute_result"
    }
   ],
   "source": [
    "len_wavs = np.zeros(len(ids))\n",
    "for idd in ids:\n",
    "    w,_ = lephare_spec()"
   ]
  },
  {
   "cell_type": "code",
   "execution_count": 13,
   "id": "9f64f8fb",
   "metadata": {},
   "outputs": [
    {
     "name": "stderr",
     "output_type": "stream",
     "text": [
      "0it [00:00, ?it/s]\n"
     ]
    },
    {
     "ename": "ValueError",
     "evalue": "could not broadcast input array from shape (298,) into shape (385,)",
     "output_type": "error",
     "traceback": [
      "\u001b[0;31m---------------------------------------------------------------------------\u001b[0m",
      "\u001b[0;31mValueError\u001b[0m                                Traceback (most recent call last)",
      "Input \u001b[0;32mIn [13]\u001b[0m, in \u001b[0;36m<cell line: 2>\u001b[0;34m()\u001b[0m\n\u001b[1;32m      5\u001b[0m \u001b[38;5;28;01mfor\u001b[39;00m j, idd \u001b[38;5;129;01min\u001b[39;00m tqdm(\u001b[38;5;28menumerate\u001b[39m(ids)):\n\u001b[1;32m      6\u001b[0m     wavs, spectrum \u001b[38;5;241m=\u001b[39m lephare_spec(idd, i\u001b[38;5;241m+\u001b[39m\u001b[38;5;241m1\u001b[39m)\n\u001b[0;32m----> 7\u001b[0m     spectrum_array[j,:] \u001b[38;5;241m=\u001b[39m spectrum\n\u001b[1;32m      8\u001b[0m spectrum_arrays\u001b[38;5;241m.\u001b[39mappend(spectrum_array)\n",
      "\u001b[0;31mValueError\u001b[0m: could not broadcast input array from shape (298,) into shape (385,)"
     ]
    }
   ],
   "source": [
    "spectrum_arrays = [] # To contain the arrays for galaxies, quasars, and stars\n",
    "for i in range(3):\n",
    "    w, _ = lephare_spec(ids[0],i) # Just to see how long each spectrum is\n",
    "    spectrum_array = np.zeros((len(ids), len(w))) # Each row is the spectrum for one object\n",
    "    for j, idd in tqdm(enumerate(ids)):\n",
    "        wavs, spectrum = lephare_spec(idd, i)\n",
    "        spectrum_array[j,:] = spectrum\n",
    "    spectrum_arrays.append(spectrum_array)"
   ]
  },
  {
   "cell_type": "code",
   "execution_count": 16,
   "id": "da9e334c",
   "metadata": {},
   "outputs": [
    {
     "data": {
      "image/png": "[encoded data removed]",
      "text/plain": [
       "<Figure size 432x288 with 1 Axes>"
      ]
     },
     "metadata": {
      "needs_background": "light"
     },
     "output_type": "display_data"
    }
   ],
   "source": [
    "import matplotlib.pyplot as plt\n",
    "x,y = lephare_spec(ids[0],0)\n",
    "plt.plot(x[100:],y[100:])\n",
    "plt.xscale('log')"
   ]
  },
  {
   "cell_type": "code",
   "execution_count": 7,
   "id": "6597fc78",
   "metadata": {},
   "outputs": [],
   "source": [
    "with open('lephare_output.out','r') as f:\n",
    "    lephare_output_text = f.read()"
   ]
  },
  {
   "cell_type": "code",
   "execution_count": null,
   "id": "3fcc3d2e",
   "metadata": {},
   "outputs": [],
   "source": []
  }
 ],
 "metadata": {
  "kernelspec": {
   "display_name": "Python 3 (ipykernel)",
   "language": "python",
   "name": "python3"
  },
  "language_info": {
   "codemirror_mode": {
    "name": "ipython",
    "version": 3
   },
   "file_extension": ".py",
   "mimetype": "text/x-python",
   "name": "python",
   "nbconvert_exporter": "python",
   "pygments_lexer": "ipython3",
   "version": "3.9.12"
  }
 },
 "nbformat": 4,
 "nbformat_minor": 5
}
