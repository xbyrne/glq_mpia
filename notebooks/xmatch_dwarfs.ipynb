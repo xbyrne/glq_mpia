{
 "cells": [
  {
   "cell_type": "markdown",
   "metadata": {},
   "source": [
    "# XMatching Dwarfs to DES"
   ]
  },
  {
   "cell_type": "code",
   "execution_count": 1,
   "metadata": {},
   "outputs": [],
   "source": [
    "import numpy as np\n",
    "import pandas as pd\n",
    "from astropy.io import ascii\n",
    "from astropy.coordinates import SkyCoord"
   ]
  },
  {
   "cell_type": "code",
   "execution_count": 2,
   "metadata": {},
   "outputs": [],
   "source": [
    "name, ra, dec, W1_W2 = [],[],[],[]"
   ]
  },
  {
   "cell_type": "markdown",
   "metadata": {},
   "source": [
    "### Kirkpatrick+11"
   ]
  },
  {
   "cell_type": "code",
   "execution_count": 3,
   "metadata": {},
   "outputs": [],
   "source": [
    "# Kirkpatrick+11\n",
    "dwarfs_k11 = ascii.read(\n",
    "    '../data/external/dwarfs_kirkpatrick_11.txt'\n",
    ")\n",
    "_ = [name.append(nm) for nm in dwarfs_k11['WISE']]\n",
    "scs = [SkyCoord.from_name(dwf['WISE'], parse=True)\n",
    "        for dwf in dwarfs_k11]\n",
    "_ = [ra.append(sc.ra.deg) for sc in scs]\n",
    "_ = [dec.append(sc.dec.deg) for sc in scs]\n",
    "_ = [W1_W2.append(w1_w2)\n",
    "    for w1_w2 in dwarfs_k11['W1mag'] - dwarfs_k11['W2mag']]"
   ]
  },
  {
   "cell_type": "markdown",
   "metadata": {},
   "source": [
    "### Best+15"
   ]
  },
  {
   "cell_type": "code",
   "execution_count": 4,
   "metadata": {},
   "outputs": [],
   "source": [
    "dwarfs_b15 = ascii.read(\n",
    "    '../data/external/dwarfs_best_15.txt',\n",
    "    header_start=2, data_start=4, data_end=-1, delimiter='\\t'\n",
    ")\n",
    "_ = [name.append(nm) for nm in dwarfs_b15['Pan-STARRS1 Name']]\n",
    "scs = [SkyCoord.from_name(dwf['Pan-STARRS1 Name'], parse=True)\n",
    "        for dwf in dwarfs_b15]\n",
    "_ = [ra.append(sc.ra.deg) for sc in scs]\n",
    "_ = [dec.append(sc.dec.deg) for sc in scs]\n",
    "_ = [W1_W2.append(\n",
    "    float(dwf['W1'].split()[0]) - float(dwf['W2'].split()[0])\n",
    "    ) for dwf in dwarfs_b15\n",
    "]"
   ]
  },
  {
   "cell_type": "markdown",
   "metadata": {},
   "source": [
    "Now we save these to an interim df, which we will match to DES."
   ]
  },
  {
   "cell_type": "code",
   "execution_count": 5,
   "metadata": {},
   "outputs": [],
   "source": [
    "dwarfs_wise = pd.DataFrame(\n",
    "    index=name,\n",
    "    data = np.array([ra, dec, W1_W2]).T,\n",
    "    columns = ['RA','Dec','W1-W2']\n",
    ")\n",
    "dwarfs_wise.to_csv('../data/interim/dwarfs_wise.csv')"
   ]
  },
  {
   "cell_type": "code",
   "execution_count": null,
   "metadata": {},
   "outputs": [],
   "source": []
  }
 ],
 "metadata": {
  "kernelspec": {
   "display_name": "qso",
   "language": "python",
   "name": "python3"
  },
  "language_info": {
   "codemirror_mode": {
    "name": "ipython",
    "version": 3
   },
   "file_extension": ".py",
   "mimetype": "text/x-python",
   "name": "python",
   "nbconvert_exporter": "python",
   "pygments_lexer": "ipython3",
   "version": "3.10.6"
  },
  "orig_nbformat": 4
 },
 "nbformat": 4,
 "nbformat_minor": 2
}
