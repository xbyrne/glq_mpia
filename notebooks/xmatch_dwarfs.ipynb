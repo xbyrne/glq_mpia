{
 "cells": [
  {
   "cell_type": "markdown",
   "metadata": {},
   "source": [
    "# XMatching Dwarfs to DES"
   ]
  },
  {
   "cell_type": "code",
   "execution_count": 1,
   "metadata": {},
   "outputs": [],
   "source": [
    "import numpy as np\n",
    "import pandas as pd\n",
    "from astropy.io import ascii\n",
    "from astropy.coordinates import SkyCoord"
   ]
  },
  {
   "cell_type": "code",
   "execution_count": 37,
   "metadata": {},
   "outputs": [],
   "source": [
    "name, ra, dec, W1_W2 = [],[],[],[]"
   ]
  },
  {
   "cell_type": "markdown",
   "metadata": {},
   "source": [
    "### Kirkpatrick+11\n",
    "Found from vizier: `J/ApJS/197/19/table1`"
   ]
  },
  {
   "cell_type": "code",
   "execution_count": 38,
   "metadata": {},
   "outputs": [],
   "source": [
    "dwarfs_k11 = pd.read_csv('../data/external/dwarfs_kirkpatrick_11.csv', index_col=3)\n",
    "_ = [name.append(nm) for nm in dwarfs_k11.index]\n",
    "scs = [SkyCoord.from_name(nm, parse=True) for nm in name]\n",
    "_ = [ra.append(sc.ra.deg) for sc in scs]\n",
    "_ = [dec.append(sc.dec.deg) for sc in scs]\n",
    "# Pretty sure the WISE mags are in Vega. We convert them to AB here.\n",
    "_ = [W1_W2.append(w1_w2) for w1_w2 in dwarfs_k11['W1mag'] - dwarfs_k11['W2mag'] - 0.64]"
   ]
  },
  {
   "cell_type": "markdown",
   "metadata": {},
   "source": [
    "### Best+15\n",
    "Found from vizier: `J/ApJ/814/118/cand`"
   ]
  },
  {
   "cell_type": "code",
   "execution_count": 39,
   "metadata": {},
   "outputs": [],
   "source": [
    "dwarfs_b15 = pd.read_csv('../data/external/dwarfs_best_15.csv', index_col=6)\n",
    "n = len(dwarfs_k11)\n",
    "_ = [name.append(nm) for nm in dwarfs_b15.index]\n",
    "scs = [SkyCoord.from_name(nm, parse=True) for nm in name[n:]]\n",
    "_ = [ra.append(sc.ra.deg) for sc in scs]\n",
    "_ = [dec.append(sc.dec.deg) for sc in scs]\n",
    "# Pretty sure the WISE mags are in Vega here also. We convert them to AB here.\n",
    "_ = [W1_W2.append(w1_w2) for w1_w2 in dwarfs_b15['W1mag'] - dwarfs_b15['W2mag'] - 0.64]"
   ]
  },
  {
   "cell_type": "markdown",
   "metadata": {},
   "source": [
    "Now we save these to an interim df, which we will match to DES."
   ]
  },
  {
   "cell_type": "code",
   "execution_count": 41,
   "metadata": {},
   "outputs": [],
   "source": [
    "dwarfs_wise = pd.DataFrame(\n",
    "    index=name,\n",
    "    data = np.array([ra, dec, W1_W2]).T,\n",
    "    columns = ['RA','Dec','W1-W2']\n",
    ")\n",
    "dwarfs_wise.to_csv('../data/interim/dwarfs_wise.csv')"
   ]
  },
  {
   "cell_type": "code",
   "execution_count": null,
   "metadata": {},
   "outputs": [],
   "source": []
  }
 ],
 "metadata": {
  "kernelspec": {
   "display_name": "qso",
   "language": "python",
   "name": "python3"
  },
  "language_info": {
   "codemirror_mode": {
    "name": "ipython",
    "version": 3
   },
   "file_extension": ".py",
   "mimetype": "text/x-python",
   "name": "python",
   "nbconvert_exporter": "python",
   "pygments_lexer": "ipython3",
   "version": "3.11.5"
  },
  "orig_nbformat": 4
 },
 "nbformat": 4,
 "nbformat_minor": 2
}
