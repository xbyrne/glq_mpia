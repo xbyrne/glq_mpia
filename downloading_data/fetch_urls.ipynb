{
 "cells": [
  {
   "cell_type": "markdown",
   "id": "0235b837",
   "metadata": {},
   "source": [
    "# URL fetcher\n",
    "---\n",
    "This notebook grabs the URLs from which the images can be downloaded.\n",
    "\n",
    "It is to be run on the Astro Data Lab (https://datalab.noirlab.edu/) 's Jupyter Notebook interface"
   ]
  },
  {
   "cell_type": "markdown",
   "id": "a69e3fe0-3bce-43b3-8c7a-ece9eb293ba2",
   "metadata": {
    "tags": []
   },
   "source": [
    "### Preamble"
   ]
  },
  {
   "cell_type": "code",
   "execution_count": 1,
   "id": "afceeef0-8e90-4eac-be2c-c7e7e4bffa49",
   "metadata": {},
   "outputs": [],
   "source": [
    "# Imports\n",
    "from getpass import getpass\n",
    "import numpy as np\n",
    "import dl\n",
    "from dl import authClient\n",
    "from pyvo.dal import sia\n",
    "from tqdm import tqdm\n",
    "import pandas as pd"
   ]
  },
  {
   "cell_type": "code",
   "execution_count": 2,
   "id": "23ee43f9-0b8d-4898-b570-0401cbec2dd9",
   "metadata": {},
   "outputs": [],
   "source": [
    "# Data source\n",
    "DEF_ACCESS_URL = \"https://datalab.noirlab.edu/sia/des_dr2\" # DES DR2 SIA service URL\n",
    "svc = sia.SIAService(DEF_ACCESS_URL)"
   ]
  },
  {
   "cell_type": "code",
   "execution_count": null,
   "id": "3651489d-4da1-4966-a300-e5705014484e",
   "metadata": {
    "tags": []
   },
   "outputs": [],
   "source": [
    "# Signin\n",
    "token = dl.authClient.login(input(\"Enter user name: \"),getpass(\"Enter password: \"))\n",
    "dl.authClient.whoAmI()"
   ]
  },
  {
   "cell_type": "markdown",
   "id": "6ba92bc4-d53b-4377-8cad-7993fc846c87",
   "metadata": {
    "tags": []
   },
   "source": [
    "### Main Code"
   ]
  },
  {
   "cell_type": "code",
   "execution_count": 4,
   "id": "2ab83cc6",
   "metadata": {},
   "outputs": [],
   "source": [
    "def url_to_band(access_url):\n",
    "    \"\"\"\n",
    "    For a given URL, this function extracts the band (g/r/i/z/Y),\n",
    "    taking advantage of the SIA's filename convention\n",
    "    \"\"\"\n",
    "    return access_url.split('.fits.fz')[0][-1]"
   ]
  },
  {
   "cell_type": "code",
   "execution_count": 9,
   "id": "e176dcc5",
   "metadata": {},
   "outputs": [],
   "source": [
    "fov_as = 7.5        # Field of view in arcsec\n",
    "fov = fov_as / 3600 # ...and in degrees\n",
    "\n",
    "csv_path = 'objs_2910.csv' # .csv file containing RA, Dec of 2e5 objects selected\n",
    "                           #    by SQL query in selecting_data/loose_cuts.txt\n",
    "df = pd.read_csv(csv_path, index_col=0)\n",
    "df_small = df[['t1_ra','t1_dec']]          # Only care about objects' RA and Dec\n",
    "\n",
    "list_out = []                              # Will be a list of lists of image download URLs"
   ]
  },
  {
   "cell_type": "code",
   "execution_count": 11,
   "id": "ff380874-608a-4bcb-b371-4cf2065a6358",
   "metadata": {
    "tags": []
   },
   "outputs": [
    {
     "name": "stderr",
     "output_type": "stream",
     "text": [
      "100%|██████████| 2910/2910 [04:40<00:00, 10.39it/s]\n"
     ]
    }
   ],
   "source": [
    "for index, row in tqdm(df_small.iterrows(), total = len(df_small)): # Iterating over 2e5 objects\n",
    "    ra = row['t1_ra']\n",
    "    dec= row['t1_dec']\n",
    "    fov_2d = (fov/np.cos(dec*np.pi/180), # Converting the FoV to 2 dimensions on the celestial sphere\n",
    "              fov)\n",
    "    \n",
    "    img_table = svc.search((ra, dec),\n",
    "                           fov_2d,\n",
    "                           verbosity=2).to_table() # Yields a table of files pertaining to this object,\n",
    "                                                   #  many of which (e.g. masks) are not needed/relevant\n",
    "        \n",
    "    obj_urls = [] # To store the URLs for this object\n",
    "    for url_row in img_table:\n",
    "        access_url = url_row['access_url']\n",
    "        if ('extn=1' in access_url) & ('nobkg' not in access_url) & ('_det.fits' not in access_url): # Relevant URLs\n",
    "            obj_urls.append(access_url + '?ID='+str(index) + ',BAND=' + str(url_to_band(access_url)))\n",
    "            \n",
    "    if len(obj_urls) == 5: # Checking nothing has gone wrong (e.g. files missing on the server,\n",
    "                           #                                       too many files due to object being on edge of tile)\n",
    "                           # obj_urls then contains 1 URL each for g,r,i,z,Y bands\n",
    "        list_out += obj_urls # Adding to the end of the big list of URLs"
   ]
  },
  {
   "cell_type": "code",
   "execution_count": 12,
   "id": "4bb1c695",
   "metadata": {},
   "outputs": [],
   "source": [
    "np_out = np.array(list_out) # Converting to np array so that it can be written out easily"
   ]
  },
  {
   "cell_type": "code",
   "execution_count": 13,
   "id": "d5c03893-23d4-4863-bd0c-9f90d59a7e0d",
   "metadata": {},
   "outputs": [],
   "source": [
    "np.savetxt('img_url_list.txt', np_out, fmt='%s') # Saving big list of URLs, ~2MB"
   ]
  },
  {
   "cell_type": "code",
   "execution_count": null,
   "id": "0e6f2ca0-177f-42dc-abd2-498669082f9c",
   "metadata": {},
   "outputs": [],
   "source": []
  }
 ],
 "metadata": {
  "kernelspec": {
   "display_name": "Python 3 (ipykernel)",
   "language": "python",
   "name": "python3"
  },
  "language_info": {
   "codemirror_mode": {
    "name": "ipython",
    "version": 3
   },
   "file_extension": ".py",
   "mimetype": "text/x-python",
   "name": "python",
   "nbconvert_exporter": "python",
   "pygments_lexer": "ipython3",
   "version": "3.9.12"
  },
  "toc-autonumbering": false
 },
 "nbformat": 4,
 "nbformat_minor": 5
}
