{
 "cells": [
  {
   "cell_type": "code",
   "execution_count": 1,
   "id": "e6404c64",
   "metadata": {},
   "outputs": [],
   "source": [
    "# Imports\n",
    "import numpy as np\n",
    "import os\n",
    "from astropy.io import fits\n",
    "from tqdm import tqdm"
   ]
  },
  {
   "cell_type": "code",
   "execution_count": 2,
   "id": "cbcc8c31",
   "metadata": {},
   "outputs": [],
   "source": [
    "# Some utility functions\n",
    "def id_from_filename(filename):\n",
    "    \"\"\"\n",
    "    Extracts the object ID from the file name\n",
    "    \"\"\"\n",
    "    return int(filename.split('ID=')[1].split(',')[0])\n",
    "def band_from_filename(filename):\n",
    "    \"\"\"\n",
    "    Extracts the image band from the file name\n",
    "    \"\"\"\n",
    "    return filename[-1]\n",
    "\n",
    "def grab_numpy(filename):\n",
    "    \"\"\"\n",
    "    Extracts the numpy image from the relevant fits file\n",
    "    \"\"\"\n",
    "    return trim_to_shape(\n",
    "        fits.getdata(\n",
    "            f'./img_files/{filename}' # The folder where all the image files are in/extracted to\n",
    "            ),\n",
    "        px=28)\n",
    "\n",
    "def trim_to_shape(img, px=28):\n",
    "    \"\"\"\n",
    "    Trims an input numpy array to a px*px square\n",
    "    \"\"\"\n",
    "    assert px % 2 == 0\n",
    "    img_shape = img.shape\n",
    "    center_x = img_shape[0] // 2\n",
    "    center_y = img_shape[1] // 2\n",
    "    trimmed_img = img[center_x - px//2:center_x + px//2,\n",
    "                     center_y - px//2:center_y + px//2]\n",
    "    return trimmed_img"
   ]
  },
  {
   "cell_type": "code",
   "execution_count": 3,
   "id": "02524f3b",
   "metadata": {},
   "outputs": [],
   "source": [
    "# Getting a sorted list of image files\n",
    "img_files_list = os.listdir('./img_files') # Listing image files\n",
    "img_files_list_sorted = sorted(img_files_list,\n",
    "                               key=id_from_filename) # Sorting image files according to ID"
   ]
  },
  {
   "cell_type": "code",
   "execution_count": 4,
   "id": "ae0e9879",
   "metadata": {},
   "outputs": [
    {
     "data": {
      "text/plain": [
       "2747"
      ]
     },
     "execution_count": 4,
     "metadata": {},
     "output_type": "execute_result"
    }
   ],
   "source": [
    "# Count the number of IDs present, needed to initialise later arrays\n",
    "prev_id = id_from_filename(img_files_list_sorted[0])\n",
    "num_ids = 1\n",
    "for filename in img_files_list_sorted:\n",
    "    this_id = id_from_filename(filename)\n",
    "    if this_id != prev_id:\n",
    "        prev_id = this_id\n",
    "        num_ids += 1\n",
    "num_ids"
   ]
  },
  {
   "cell_type": "code",
   "execution_count": 6,
   "id": "3e417b12",
   "metadata": {},
   "outputs": [
    {
     "name": "stderr",
     "output_type": "stream",
     "text": [
      "100%|████████████████████████████| 13735/13735 [02:48<00:00, 81.51it/s]\n"
     ]
    }
   ],
   "source": [
    "all_imgs = np.zeros((num_ids,28,28,5)) # Will contain all the images\n",
    "all5_2828_mask = np.zeros((num_ids,))  # Which objects have images in all 5 bands that can be cropped to 28*28?\n",
    "all5_2828_ids = []                     # A list of successfully extracted objects' IDs\n",
    "\n",
    "band_dict = {'g':0,  # Changes the order from alphabetical to wavelength\n",
    "             'r':1,\n",
    "             'i':2,\n",
    "             'z':3,\n",
    "             'Y':4}\n",
    "\n",
    "# Initialising utility variables\n",
    "prev_file_id = None # The ID of the last file looked at\n",
    "num_obj_files = 5   # The number of files of the current object looked at\n",
    "obj_num = -1        # The object we are currently looking at\n",
    "\n",
    "for filename in tqdm(img_files_list_sorted):\n",
    "    file_id = id_from_filename(filename)\n",
    "    if file_id != prev_file_id:                      # We've looked at all the files for the previous object\n",
    "        if num_obj_files == 5:                       # Previous object had 5 successful bands\n",
    "            if prev_file_id is not None:             # Ignoring the initialisation\n",
    "                all5_2828_mask[obj_num] = 1          # Previous object was successful\n",
    "                all5_2828_ids.append(prev_file_id)\n",
    "        # We are now done with the previous object\n",
    "        obj_num += 1\n",
    "        num_obj_files = 0 # Reset counter to 0 for this obj\n",
    "    file_img = grab_numpy(filename)                # Extract image from file\n",
    "    file_img_shape = file_img.shape                # Find image shape\n",
    "    file_band_name = band_from_filename(filename)  # Extract band from file\n",
    "    all_imgs[obj_num,                              # Adding this image to the big array of images\n",
    "             :file_img_shape[0],\n",
    "             :file_img_shape[1],\n",
    "             band_dict[file_band_name]] = file_img\n",
    "    if file_img_shape != (28,28):\n",
    "        num_obj_files -= 1 # Means that this object will eventually be rejected at the end, and masked out\n",
    "    num_obj_files += 1\n",
    "    prev_file_id = file_id\n",
    "# The above doesn't deal with the final object!\n",
    "if num_obj_files == 5:\n",
    "    all5_2828_mask[obj_num] = 1\n",
    "    all5_2828_ids.append(prev_file_id)"
   ]
  },
  {
   "cell_type": "code",
   "execution_count": 7,
   "id": "e57b2507",
   "metadata": {},
   "outputs": [
    {
     "name": "stdout",
     "output_type": "stream",
     "text": [
      "Images successfully collected for 2747 out of 2747 objects\n",
      "Shape of images array: (2747, 28, 28, 5); Number of successful IDs: 2747\n"
     ]
    }
   ],
   "source": [
    "imgs_all5_2828 = all_imgs[all5_2828_mask==1,:,:,:] # Filtering out failed images\n",
    "print(f'Images successfully collected for {int(np.sum(all5_2828_mask))} out of {len(all5_2828_mask)} objects')\n",
    "print(f'Shape of images array: {imgs_all5_2828.shape}; Number of successful IDs: {len(all5_2828_ids)}')"
   ]
  },
  {
   "cell_type": "code",
   "execution_count": 8,
   "id": "fe990da9",
   "metadata": {},
   "outputs": [],
   "source": [
    "# Saving images and their ids\n",
    "np.savez_compressed('./images.npz',\n",
    "                    imgs=imgs_all5_2828,\n",
    "                    ids=np.array(all5_2828_ids))"
   ]
  },
  {
   "cell_type": "code",
   "execution_count": null,
   "id": "59903ecd",
   "metadata": {},
   "outputs": [],
   "source": []
  }
 ],
 "metadata": {
  "kernelspec": {
   "display_name": "Python 3 (ipykernel)",
   "language": "python",
   "name": "python3"
  },
  "language_info": {
   "codemirror_mode": {
    "name": "ipython",
    "version": 3
   },
   "file_extension": ".py",
   "mimetype": "text/x-python",
   "name": "python",
   "nbconvert_exporter": "python",
   "pygments_lexer": "ipython3",
   "version": "3.9.12"
  }
 },
 "nbformat": 4,
 "nbformat_minor": 5
}
